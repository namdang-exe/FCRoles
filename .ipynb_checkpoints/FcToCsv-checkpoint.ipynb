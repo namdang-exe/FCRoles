{
 "cells": [
  {
   "cell_type": "code",
   "execution_count": 1,
   "metadata": {},
   "outputs": [],
   "source": [
    "import arcpy\n",
    "import os\n",
    "from os import path"
   ]
  },
  {
   "cell_type": "code",
   "execution_count": 2,
   "metadata": {},
   "outputs": [],
   "source": [
    "working_dir = os.getcwd()\n",
    "db_file = \"csvgisds24s.sde\"\n",
    "db_path = path.join(working_dir, db_file)"
   ]
  },
  {
   "cell_type": "code",
   "execution_count": 3,
   "metadata": {},
   "outputs": [
    {
     "name": "stdout",
     "output_type": "stream",
     "text": [
      "Connects to the database successfully!\n"
     ]
    }
   ],
   "source": [
    "# Establish a connection to CSVEGISDS24S\n",
    "if not path.exists(db_path):\n",
    "    try:\n",
    "        db_path = arcpy.CreateDatabaseConnection_management(working_dir, db_file,\n",
    "                                                           \"SQL_SERVER\", \"csvgisds24s\",\n",
    "                                                           \"OPERATING_SYSTEM_AUTH\", database=\"EGISDB\")\n",
    "        print(\"Connects to the database successfully!\")\n",
    "    except Exception as genErr:\n",
    "        print(\"General Error: {}\".format(genErr))\n",
    "        raise Exception(genErr)"
   ]
  },
  {
   "cell_type": "code",
   "execution_count": null,
   "metadata": {},
   "outputs": [],
   "source": [
    "arcpy.management.CreateDatabaseConnection(r\"C:\\Users\\dangn\\PycharmProjects\\Roles\", \"1234\", \"SQL_SERVER\", \"asd\", \"DATABASE_AUTH\", '', None, \"SAVE_USERNAME\", '', '', \"TRANSACTIONAL\", '', None)"
   ]
  },
  {
   "cell_type": "code",
   "execution_count": 34,
   "metadata": {},
   "outputs": [
    {
     "name": "stdout",
     "output_type": "stream",
     "text": [
      "('LRS', 'STUDYAREA', 'CPMSEDITOR', 'LRS', 'Grant     ', 'Select', '(All+New)')\n",
      "EGISDB.LRS.StudyArea (['CPMSEDITOR'], ['Select'])\n",
      "('LRS', 'STATEBOUNDARY', 'GISREADER', 'LRS', 'Grant     ', 'Select', '(All+New)')\n",
      "EGISDB.LRS.StateBoundary (['GISREADER'], ['Select'])\n",
      "('LRS', 'REDLINE', 'BRIDGEEDITOR', 'LRS', 'Grant     ', 'Delete', '.')\n",
      "EGISDB.LRS.Redline (['BRIDGEEDITOR'], ['Delete'])\n",
      "('LRS', 'LRSN_MILEPOINT', 'GISREADER', 'LRS', 'Grant     ', 'Select', '(All+New)')\n",
      "EGISDB.LRS.LRSN_Milepoint (['GISREADER'], ['Select'])\n",
      "('LRS', 'LRSE_WIDENING', 'GISREADER', 'LRS', 'Grant     ', 'Select', '(All+New)')\n",
      "EGISDB.LRS.LRSE_Widening (['GISREADER'], ['Select'])\n",
      "('LRS', 'LRSE_USROUTE', 'GISREADER', 'LRS', 'Grant     ', 'Select', '(All+New)')\n",
      "EGISDB.LRS.LRSE_USRoute (['GISREADER'], ['Select'])\n",
      "('LRS', 'LRSE_URBANCODE', 'GISREADER', 'LRS', 'Grant     ', 'Select', '(All+New)')\n",
      "EGISDB.LRS.LRSE_UrbanCode (['GISREADER'], ['Select'])\n",
      "('LRS', 'LRSE_TURNLANERIGHT', 'GISREADER', 'LRS', 'Grant     ', 'Select', '(All+New)')\n",
      "EGISDB.LRS.LRSE_TurnLaneRight (['GISREADER'], ['Select'])\n",
      "('LRS', 'LRSE_TURNLANELEFT', 'GISREADER', 'LRS', 'Grant     ', 'Select', '(All+New)')\n",
      "EGISDB.LRS.LRSE_TurnLaneLeft (['GISREADER'], ['Select'])\n",
      "('LRS', 'LRSE_TRUCK', 'GISREADER', 'LRS', 'Grant     ', 'Select', '(All+New)')\n",
      "EGISDB.LRS.LRSE_Truck (['GISREADER'], ['Select'])\n",
      "('LRS', 'LRSE_TOLL', 'GISREADER', 'LRS', 'Grant     ', 'Select', '(All+New)')\n",
      "EGISDB.LRS.LRSE_Toll (['GISREADER'], ['Select'])\n",
      "('LRS', 'LRSE_THROUGHLANE', 'GISREADER', 'LRS', 'Grant     ', 'Select', '(All+New)')\n",
      "EGISDB.LRS.LRSE_ThroughLane (['GISREADER'], ['Select'])\n",
      "('LRS', 'LRSE_TERRAINTYPE', 'GISREADER', 'LRS', 'Grant     ', 'Select', '(All+New)')\n",
      "EGISDB.LRS.LRSE_TerrainType (['GISREADER'], ['Select'])\n",
      "('LRS', 'LRSE_STRUCTUREPT', 'GISREADER', 'LRS', 'Grant     ', 'Select', '(All+New)')\n",
      "EGISDB.LRS.LRSE_StructurePt (['GISREADER'], ['Select'])\n",
      "('LRS', 'LRSE_STRUCTURE', 'GISREADER', 'LRS', 'Grant     ', 'Select', '(All+New)')\n",
      "EGISDB.LRS.LRSE_Structure (['GISREADER'], ['Select'])\n",
      "('LRS', 'LRSE_STREETNAME', 'GISREADER', 'LRS', 'Grant     ', 'Select', '(All+New)')\n",
      "EGISDB.LRS.LRSE_StreetName (['GISREADER'], ['Select'])\n",
      "('LRS', 'LRSE_STRAHNETTYPE', 'GISREADER', 'LRS', 'Grant     ', 'Select', '(All+New)')\n",
      "EGISDB.LRS.LRSE_STRAHNETType (['GISREADER'], ['Select'])\n",
      "('LRS', 'LRSE_SIGNALS', 'GISREADER', 'LRS', 'Grant     ', 'Select', '(All+New)')\n",
      "EGISDB.LRS.LRSE_Signals (['GISREADER'], ['Select'])\n",
      "('LRS', 'LRSE_SHOULDER', 'GISREADER', 'LRS', 'Grant     ', 'Select', '(All+New)')\n",
      "EGISDB.LRS.LRSE_Shoulder (['GISREADER'], ['Select'])\n",
      "('LRS', 'LRSE_SAMPLESECTION', 'GISREADER', 'LRS', 'Grant     ', 'Select', '(All+New)')\n",
      "EGISDB.LRS.LRSE_SampleSection (['GISREADER'], ['Select'])\n",
      "('LRS', 'LRSE_ROUTESIGNING', 'GISREADER', 'LRS', 'Grant     ', 'Select', '(All+New)')\n",
      "EGISDB.LRS.LRSE_RouteSigning (['GISREADER'], ['Select'])\n",
      "('LRS', 'LRSE_ROUTEQUALIFIER', 'GISREADER', 'LRS', 'Grant     ', 'Select', '(All+New)')\n",
      "EGISDB.LRS.LRSE_RouteQualifier (['GISREADER'], ['Select'])\n",
      "('LRS', 'LRSE_ROUTENUMBER', 'GISREADER', 'LRS', 'Grant     ', 'Select', '(All+New)')\n",
      "EGISDB.LRS.LRSE_RouteNumber (['GISREADER'], ['Select'])\n",
      "('LRS', 'LRSE_PSR', 'GISREADER', 'LRS', 'Grant     ', 'Select', '(All+New)')\n",
      "EGISDB.LRS.LRSE_PSR (['GISREADER'], ['Select'])\n",
      "('LRS', 'LRSE_PEAKPARKING', 'GISREADER', 'LRS', 'Grant     ', 'Select', '(All+New)')\n",
      "EGISDB.LRS.LRSE_PeakParking (['GISREADER'], ['Select'])\n",
      "('LRS', 'LRSE_PEAKLANE', 'GISREADER', 'LRS', 'Grant     ', 'Select', '(All+New)')\n",
      "EGISDB.LRS.LRSE_PeakLane (['GISREADER'], ['Select'])\n",
      "('LRS', 'LRSE_PCTPASSINGSIGHT', 'GISREADER', 'LRS', 'Grant     ', 'Select', '(All+New)')\n",
      "EGISDB.LRS.LRSE_PctPassingSight (['GISREADER'], ['Select'])\n",
      "('LRS', 'LRSE_OWNERSHIP', 'GISREADER', 'LRS', 'Grant     ', 'Select', '(All+New)')\n",
      "EGISDB.LRS.LRSE_Ownership (['GISREADER'], ['Select'])\n",
      "('LRS', 'LRSE_NHS', 'GISREADER', 'LRS', 'Grant     ', 'Select', '(All+New)')\n",
      "EGISDB.LRS.LRSE_NHS (['GISREADER'], ['Select'])\n",
      "('LRS', 'LRSE_MEDIAN', 'GISREADER', 'LRS', 'Grant     ', 'Select', '(All+New)')\n",
      "EGISDB.LRS.LRSE_Median (['GISREADER'], ['Select'])\n",
      "('LRS', 'LRSE_MAINTENANCEOPERATIONS', 'GISREADER', 'LRS', 'Grant     ', 'Select', '(All+New)')\n",
      "EGISDB.LRS.LRSE_MaintenanceOperations (['GISREADER'], ['Select'])\n",
      "('LRS', 'LRSE_LANEWIDTH', 'GISREADER', 'LRS', 'Grant     ', 'Select', '(All+New)')\n",
      "EGISDB.LRS.LRSE_LaneWidth (['GISREADER'], ['Select'])\n",
      "('LRS', 'LRSE_GRADE', 'GISREADER', 'LRS', 'Grant     ', 'Select', '(All+New)')\n",
      "EGISDB.LRS.LRSE_Grade (['GISREADER'], ['Select'])\n",
      "('LRS', 'LRSE_FUTUREFACILITY', 'GISREADER', 'LRS', 'Grant     ', 'Select', '(All+New)')\n",
      "EGISDB.LRS.LRSE_FutureFacility (['GISREADER'], ['Select'])\n",
      "('LRS', 'LRSE_FSYSTEM', 'GISREADER', 'LRS', 'Grant     ', 'Select', '(All+New)')\n",
      "EGISDB.LRS.LRSE_FSystem (['GISREADER'], ['Select'])\n",
      "('LRS', 'LRSE_FACILITYTYPE', 'GISREADER', 'LRS', 'Grant     ', 'Select', '(All+New)')\n",
      "EGISDB.LRS.LRSE_FacilityType (['GISREADER'], ['Select'])\n",
      "('LRS', 'LRSE_DOMINANCEEXCLUSION', 'GISREADER', 'LRS', 'Grant     ', 'Select', '(All+New)')\n",
      "EGISDB.LRS.LRSE_DominanceExclusion (['GISREADER'], ['Select'])\n",
      "('LRS', 'LRSE_CURVE', 'GISREADER', 'LRS', 'Grant     ', 'Select', '(All+New)')\n",
      "EGISDB.LRS.LRSE_Curve (['GISREADER'], ['Select'])\n",
      "('LRS', 'LRSE_COUNTYCODE', 'GISREADER', 'LRS', 'Grant     ', 'Select', '(All+New)')\n",
      "EGISDB.LRS.LRSE_CountyCode (['GISREADER'], ['Select'])\n",
      "('LRS', 'LRSE_COUNTERPEAKLANE', 'GISREADER', 'LRS', 'Grant     ', 'Select', '(All+New)')\n",
      "EGISDB.LRS.LRSE_CounterPeakLane (['GISREADER'], ['Select'])\n",
      "('LRS', 'LRSE_ALTERNATIVEROUTENAME', 'GISREADER', 'LRS', 'Grant     ', 'Select', '(All+New)')\n",
      "EGISDB.LRS.LRSE_AlternativeRouteName (['GISREADER'], ['Select'])\n",
      "('LRS', 'LRSE_ACCESSCONTROL', 'GISREADER', 'LRS', 'Grant     ', 'Select', '(All+New)')\n",
      "EGISDB.LRS.LRSE_AccessControl (['GISREADER'], ['Select'])\n",
      "('LRS', 'FEDERALBOUNDARY', 'GISREADER', 'LRS', 'Grant     ', 'Select', '(All+New)')\n",
      "EGISDB.LRS.FederalBoundary (['GISREADER'], ['Select'])\n",
      "('LRS', 'DIVISION', 'GISREADER', 'LRS', 'Grant     ', 'Select', '(All+New)')\n",
      "EGISDB.LRS.Division (['GISREADER'], ['Select'])\n",
      "('LRS', 'COUNTYBOUNDARY', 'CPMSEDITOR', 'LRS', 'Grant     ', 'Select', '(All+New)')\n",
      "EGISDB.LRS.CountyBoundary (['CPMSEDITOR'], ['Select'])\n",
      "('LRS', 'CITYBOUNDARY', 'CPMSEDITOR', 'LRS', 'Grant     ', 'Select', '(All+New)')\n",
      "EGISDB.LRS.CityBoundary (['CPMSEDITOR'], ['Select'])\n",
      "('LRS', 'CENTERLINE', 'GISREADER', 'LRS', 'Grant     ', 'Select', '(All+New)')\n",
      "EGISDB.LRS.Centerline (['GISREADER'], ['Select'])\n",
      "('LRS', 'CALIBRATIONPOINT', 'GISREADER', 'LRS', 'Grant     ', 'Select', '(All+New)')\n",
      "EGISDB.LRS.CalibrationPoint (['GISREADER'], ['Select'])\n",
      "('LRS', 'URBANAREA', 'CPMSEDITOR', 'LRS', 'Grant     ', 'Select', '(All+New)')\n",
      "EGISDB.LRS.UrbanArea (['CPMSEDITOR'], ['Select'])\n",
      "('LRS', 'EGIS_AREA_BOUNDARIES', 'CARTOEDITOR', 'LRS', 'Grant     ', 'Delete', '.')\n",
      "EGISDB.LRS.EGIS_AREA_BOUNDARIES (['CARTOEDITOR'], ['Delete'])\n",
      "('LRS', 'LRSE_MILEPOST_MAP', 'CARTOEDITOR', 'LRS', 'Grant     ', 'Delete', '.')\n",
      "EGISDB.LRS.LRSE_Milepost_Map (['CARTOEDITOR'], ['Delete'])\n",
      "('LRS', 'TRAFFICCOUNTERREF', 'GISREADER', 'LRS', 'Grant     ', 'Select', '(All+New)')\n",
      "EGISDB.LRS.TrafficCounterRef (['GISREADER'], ['Select'])\n",
      "('LRS', 'LRSE_MILEPOST_MAP_LINEAR', 'GISREADER', 'LRS', 'Grant     ', 'Select', '(All+New)')\n",
      "EGISDB.LRS.LRSE_Milepost_Map_Linear (['GISREADER'], ['Select'])\n",
      "('LRS', 'EGIS_REGION_BOUNDARIES', 'CARTOEDITOR', 'LRS', 'Grant     ', 'Delete', '.')\n",
      "EGISDB.LRS.EGIS_REGION_BOUNDARIES (['CARTOEDITOR'], ['Delete'])\n",
      "('LRS', 'EGIS_DISTRICT_BOUNDARIES', 'CARTOEDITOR', 'LRS', 'Grant     ', 'Delete', '.')\n",
      "EGISDB.LRS.EGIS_DISTRICT_BOUNDARIES (['CARTOEDITOR'], ['Delete'])\n",
      "('LRS', 'LRSI_INTERSECTION_LRS', 'GISREADER', 'LRS', 'Grant     ', 'Select', '(All+New)')\n",
      "EGISDB.LRS.LRSI_Intersection_LRS (['GISREADER'], ['Select'])\n",
      "('LRS', 'PPR_2017', 'GISREADER', 'LRS', 'Grant     ', 'Select', '(All+New)')\n",
      "EGISDB.LRS.PPR_2017 (['GISREADER'], ['Select'])\n",
      "('LRS', 'PROJECTS', 'CPMSEDITOR', 'LRS', 'Grant     ', 'Delete', '.')\n",
      "EGISDB.LRS.Projects (['CPMSEDITOR'], ['Delete'])\n",
      "('LRS', 'MILEMARKER', 'GISREADER', 'LRS', 'Grant     ', 'Select', '(All+New)')\n",
      "EGISDB.LRS.Milemarker (['GISREADER'], ['Select'])\n",
      "('LRS', 'MAINTENANCE_ROADMAP_SIGNS', 'GISREADER', 'LRS', 'Grant     ', 'Select', '(All+New)')\n",
      "EGISDB.LRS.MAINTENANCE_Roadmap_Signs (['GISREADER'], ['Select'])\n"
     ]
    },
    {
     "name": "stdout",
     "output_type": "stream",
     "text": [
      "('LRS', 'MAINTENANCE_FEDERAL_AID', 'GISREADER', 'LRS', 'Grant     ', 'Select', '(All+New)')\n",
      "EGISDB.LRS.MAINTENANCE_Federal_Aid (['GISREADER'], ['Select'])\n",
      "('LRS', 'HOUSE_DISTRICTS', 'GISREADER', 'LRS', 'Grant     ', 'Select', '(All+New)')\n",
      "EGISDB.LRS.House_Districts (['GISREADER'], ['Select'])\n",
      "('LRS', 'SENATE_DISTRICTS', 'GISREADER', 'LRS', 'Grant     ', 'Select', '(All+New)')\n",
      "EGISDB.LRS.Senate_Districts (['GISREADER'], ['Select'])\n",
      "('LRS', 'CONGRESSIONAL_DISTRICTS', 'GISREADER', 'LRS', 'Grant     ', 'Select', '(All+New)')\n",
      "EGISDB.LRS.Congressional_Districts (['GISREADER'], ['Select'])\n",
      "('LRS', 'LRSE_PAVED', 'GISREADER', 'LRS', 'Grant     ', 'Select', '(All+New)')\n",
      "EGISDB.LRS.LRSE_Paved (['GISREADER'], ['Select'])\n",
      "('LRS', 'LRSE_SAFETYLINKS', 'GISREADER', 'LRS', 'Grant     ', 'Select', '(All+New)')\n",
      "EGISDB.LRS.LRSE_SafetyLinks (['GISREADER'], ['Select'])\n",
      "('LRS', 'LRSE_SAFETYNODES', 'GISREADER', 'LRS', 'Grant     ', 'Select', '(All+New)')\n",
      "EGISDB.LRS.LRSE_SafetyNodes (['GISREADER'], ['Select'])\n",
      "('LRS', 'LRSE_RAILCROSSING', 'GISREADER', 'LRS', 'Grant     ', 'Select', '(All+New)')\n",
      "EGISDB.LRS.LRSE_RailCrossing (['GISREADER'], ['Select'])\n",
      "('LRS', 'LRS_RINV_PAVEDSHOULDER', 'GISREADER', 'LRS', 'Grant     ', 'Select', '(All+New)')\n",
      "EGISDB.LRS.LRS_RINV_PavedShoulder (['GISREADER'], ['Select'])\n",
      "('LRS', 'LRSN_MILEPOST', 'GISREADER', 'LRS', 'Grant     ', 'Select', '(All+New)')\n",
      "EGISDB.LRS.LRSN_Milepost (['GISREADER'], ['Select'])\n",
      "('LRS', 'LRSN_EQUATION', 'GISREADER', 'LRS', 'Grant     ', 'Select', '(All+New)')\n",
      "EGISDB.LRS.LRSN_Equation (['GISREADER'], ['Select'])\n",
      "('LRS', 'LRSE_RAILCROSSINGS', 'GISREADER', 'LRS', 'Grant     ', 'Select', '(All+New)')\n",
      "EGISDB.LRS.LRSE_RailCrossings (['GISREADER'], ['Select'])\n",
      "('LRS', 'RESTAREAS', 'GISREADER', 'LRS', 'Grant     ', 'Select', '(All+New)')\n",
      "EGISDB.LRS.RestAreas (['GISREADER'], ['Select'])\n",
      "('LRS', 'LRS_RINV_DIVIDED', 'GISREADER', 'LRS', 'Grant     ', 'Select', '(All+New)')\n",
      "EGISDB.LRS.LRS_RINV_Divided (['GISREADER'], ['Select'])\n",
      "('LRS', 'LRSE_EVACUATIONROUTE', 'GISREADER', 'LRS', 'Grant     ', 'Select', '(All+New)')\n",
      "EGISDB.LRS.LRSE_EvacuationRoute (['GISREADER'], ['Select'])\n",
      "('LRS', 'EGISPROJECTSLINE', 'CPMSEDITOR', 'LRS', 'Grant     ', 'Select', '(All+New)')\n",
      "EGISDB.LRS.EGISPROJECTSLINE (['CPMSEDITOR'], ['Select'])\n",
      "('LRS', 'spvwHouseDistricts', 'BRIDGEEDITOR', 'LRS', 'Grant     ', 'Select', '(All)')\n",
      "EGISDB.LRS.spvwHouseDistricts (['BRIDGEEDITOR'], ['Select'])\n",
      "('LRS', 'spvwSenateDistricts', 'BRIDGEEDITOR', 'LRS', 'Grant     ', 'Select', '(All)')\n",
      "EGISDB.LRS.spvwSenateDistricts (['BRIDGEEDITOR'], ['Select'])\n"
     ]
    }
   ],
   "source": [
    "def GetPrivileges(table):\n",
    "    cnxn = pyodbc.connect(r'Driver={SQL Server};Server=csvgisds24s;Database=EGISDB; Trusted_Connection=yes')\n",
    "    cursor = cnxn.cursor()\n",
    "    cursor.execute(f\"EXEC sp_helprotect '{table}'\")\n",
    "    rows = cursor.fetchall()\n",
    "    roles = []\n",
    "    privileges = []\n",
    "    \n",
    "    for row in rows:\n",
    "        print(row)\n",
    "        roles.append(row.Grantee)\n",
    "        privileges.append(row.Action)\n",
    "        return roles, privileges\n",
    "\n",
    "arcpy.env.workspace = str(db_path)\n",
    "for fc in arcpy.ListFeatureClasses():\n",
    "    desc = arcpy.Describe(fc)\n",
    "    # print(f\"version: {desc.isVersioned}\")\n",
    "    table = desc.BaseName\n",
    "    print(table, GetPrivileges(table))"
   ]
  },
  {
   "cell_type": "code",
   "execution_count": 5,
   "metadata": {},
   "outputs": [],
   "source": [
    "import pyodbc\n",
    "def get_privileges(sde, owner, table):\n",
    "    privileges  = {\"edit\": set(), \"view\": set()}\n",
    "    command = \"\"\"\n",
    "        select PRIVILEGE, GRANTEE\n",
    "        from ALL_TAB_PRIVS \n",
    "        where TABLE_NAME = '{0}'\n",
    "        and TABLE_SCHEMA = '{1}'\"\"\".format(table, owner)\n",
    "    executor = arcpy.ArcSDESQLExecute(sde)\n",
    "    result = executor.execute(command)\n",
    "    for row in result:\n",
    "        if row[0] == \"SELECT\":\n",
    "            privileges[\"view\"].add(row[1])\n",
    "        elif row[0] in (\"UPDATE\", \"INSERT\", \"DELETE\"):\n",
    "            privileges[\"edit\"].add(row[1])\n",
    "    return privileges"
   ]
  },
  {
   "cell_type": "code",
   "execution_count": 8,
   "metadata": {},
   "outputs": [
    {
     "name": "stdout",
     "output_type": "stream",
     "text": [
      "C:\\Users\\dangn\\PycharmProjects\\Roles\\csvgisds24s.sde\n"
     ]
    },
    {
     "ename": "AttributeError",
     "evalue": "ArcSDESQLExecute: StreamPrepareSQL ArcSDE Error -37 DBMS table not found",
     "output_type": "error",
     "traceback": [
      "\u001b[1;31m---------------------------------------------------------------------------\u001b[0m",
      "\u001b[1;31mAttributeError\u001b[0m                            Traceback (most recent call last)",
      "\u001b[1;32m<ipython-input-8-23706dbba489>\u001b[0m in \u001b[0;36m<module>\u001b[1;34m\u001b[0m\n\u001b[0;32m      5\u001b[0m \u001b[0mfeatureClasses\u001b[0m \u001b[1;33m=\u001b[0m \u001b[0marcpy\u001b[0m\u001b[1;33m.\u001b[0m\u001b[0mListFeatureClasses\u001b[0m\u001b[1;33m(\u001b[0m\u001b[1;33m)\u001b[0m\u001b[1;33m\u001b[0m\u001b[1;33m\u001b[0m\u001b[0m\n\u001b[0;32m      6\u001b[0m \u001b[0mtable\u001b[0m \u001b[1;33m=\u001b[0m \u001b[0mfeatureClasses\u001b[0m\u001b[1;33m[\u001b[0m\u001b[1;36m0\u001b[0m\u001b[1;33m]\u001b[0m\u001b[1;33m\u001b[0m\u001b[1;33m\u001b[0m\u001b[0m\n\u001b[1;32m----> 7\u001b[1;33m \u001b[0mget_privileges\u001b[0m\u001b[1;33m(\u001b[0m\u001b[0msde\u001b[0m\u001b[1;33m,\u001b[0m \u001b[0mowner\u001b[0m\u001b[1;33m,\u001b[0m \u001b[0mtable\u001b[0m\u001b[1;33m)\u001b[0m\u001b[1;33m\u001b[0m\u001b[1;33m\u001b[0m\u001b[0m\n\u001b[0m",
      "\u001b[1;32m<ipython-input-5-71acf698386a>\u001b[0m in \u001b[0;36mget_privileges\u001b[1;34m(sde, owner, table)\u001b[0m\n\u001b[0;32m      8\u001b[0m         and TABLE_SCHEMA = '{1}'\"\"\".format(table, owner)\n\u001b[0;32m      9\u001b[0m     \u001b[0mexecutor\u001b[0m \u001b[1;33m=\u001b[0m \u001b[0marcpy\u001b[0m\u001b[1;33m.\u001b[0m\u001b[0mArcSDESQLExecute\u001b[0m\u001b[1;33m(\u001b[0m\u001b[0msde\u001b[0m\u001b[1;33m)\u001b[0m\u001b[1;33m\u001b[0m\u001b[1;33m\u001b[0m\u001b[0m\n\u001b[1;32m---> 10\u001b[1;33m     \u001b[0mresult\u001b[0m \u001b[1;33m=\u001b[0m \u001b[0mexecutor\u001b[0m\u001b[1;33m.\u001b[0m\u001b[0mexecute\u001b[0m\u001b[1;33m(\u001b[0m\u001b[0mcommand\u001b[0m\u001b[1;33m)\u001b[0m\u001b[1;33m\u001b[0m\u001b[1;33m\u001b[0m\u001b[0m\n\u001b[0m\u001b[0;32m     11\u001b[0m     \u001b[1;32mfor\u001b[0m \u001b[0mrow\u001b[0m \u001b[1;32min\u001b[0m \u001b[0mresult\u001b[0m\u001b[1;33m:\u001b[0m\u001b[1;33m\u001b[0m\u001b[1;33m\u001b[0m\u001b[0m\n\u001b[0;32m     12\u001b[0m         \u001b[1;32mif\u001b[0m \u001b[0mrow\u001b[0m\u001b[1;33m[\u001b[0m\u001b[1;36m0\u001b[0m\u001b[1;33m]\u001b[0m \u001b[1;33m==\u001b[0m \u001b[1;34m\"SELECT\"\u001b[0m\u001b[1;33m:\u001b[0m\u001b[1;33m\u001b[0m\u001b[1;33m\u001b[0m\u001b[0m\n",
      "\u001b[1;32mC:\\Program Files\\ArcGIS\\Pro\\Resources\\ArcPy\\arcpy\\arcobjects\\arcobjects.py\u001b[0m in \u001b[0;36mexecute\u001b[1;34m(self, *args)\u001b[0m\n\u001b[0;32m     42\u001b[0m            an appropriate type (string, float, float).\"\"\"\n\u001b[0;32m     43\u001b[0m         \u001b[1;32mfrom\u001b[0m \u001b[0marcpy\u001b[0m\u001b[1;33m.\u001b[0m\u001b[0mgeoprocessing\u001b[0m\u001b[1;33m.\u001b[0m\u001b[0m_base\u001b[0m \u001b[1;32mimport\u001b[0m \u001b[0mgp_fixargs\u001b[0m\u001b[1;33m\u001b[0m\u001b[1;33m\u001b[0m\u001b[0m\n\u001b[1;32m---> 44\u001b[1;33m         \u001b[1;32mreturn\u001b[0m \u001b[0mconvertArcObjectToPythonObject\u001b[0m\u001b[1;33m(\u001b[0m\u001b[0mself\u001b[0m\u001b[1;33m.\u001b[0m\u001b[0m_arc_object\u001b[0m\u001b[1;33m.\u001b[0m\u001b[0mExecute\u001b[0m\u001b[1;33m(\u001b[0m\u001b[1;33m*\u001b[0m\u001b[0mgp_fixargs\u001b[0m\u001b[1;33m(\u001b[0m\u001b[0margs\u001b[0m\u001b[1;33m)\u001b[0m\u001b[1;33m)\u001b[0m\u001b[1;33m)\u001b[0m\u001b[1;33m\u001b[0m\u001b[1;33m\u001b[0m\u001b[0m\n\u001b[0m\u001b[0;32m     45\u001b[0m \u001b[1;33m\u001b[0m\u001b[0m\n\u001b[0;32m     46\u001b[0m     \u001b[1;32mdef\u001b[0m \u001b[0mstartTransaction\u001b[0m\u001b[1;33m(\u001b[0m\u001b[0mself\u001b[0m\u001b[1;33m,\u001b[0m \u001b[1;33m*\u001b[0m\u001b[0margs\u001b[0m\u001b[1;33m)\u001b[0m\u001b[1;33m:\u001b[0m\u001b[1;33m\u001b[0m\u001b[1;33m\u001b[0m\u001b[0m\n",
      "\u001b[1;31mAttributeError\u001b[0m: ArcSDESQLExecute: StreamPrepareSQL ArcSDE Error -37 DBMS table not found"
     ]
    }
   ],
   "source": [
    "sde = str(db_path)\n",
    "print(db_path)\n",
    "owner = \"LRS\"\n",
    "arcpy.env.workspace = str(db_path)\n",
    "featureClasses = arcpy.ListFeatureClasses()\n",
    "table = featureClasses[0]\n",
    "get_privileges(sde, owner, table)"
   ]
  },
  {
   "cell_type": "code",
   "execution_count": 16,
   "metadata": {},
   "outputs": [
    {
     "ename": "AttributeError",
     "evalue": "ArcSDESQLExecute: StreamPrepareSQL ArcSDE Error -37 DBMS table not found",
     "output_type": "error",
     "traceback": [
      "\u001b[1;31m---------------------------------------------------------------------------\u001b[0m",
      "\u001b[1;31mAttributeError\u001b[0m                            Traceback (most recent call last)",
      "\u001b[1;32m<ipython-input-16-caa687b3a1f5>\u001b[0m in \u001b[0;36m<module>\u001b[1;34m\u001b[0m\n\u001b[0;32m      7\u001b[0m     \u001b[0mwhere\u001b[0m \u001b[0mTABLE_NAME\u001b[0m \u001b[1;33m=\u001b[0m \u001b[1;34m'{0}'\u001b[0m\u001b[1;33m\u001b[0m\u001b[1;33m\u001b[0m\u001b[0m\n\u001b[0;32m      8\u001b[0m     and TABLE_SCHEMA = '{1}'\"\"\".format(table, owner)\n\u001b[1;32m----> 9\u001b[1;33m \u001b[0megdb_return\u001b[0m \u001b[1;33m=\u001b[0m \u001b[0megdb_conn\u001b[0m\u001b[1;33m.\u001b[0m\u001b[0mexecute\u001b[0m\u001b[1;33m(\u001b[0m\u001b[0mcommand\u001b[0m\u001b[1;33m)\u001b[0m\u001b[1;33m\u001b[0m\u001b[1;33m\u001b[0m\u001b[0m\n\u001b[0m\u001b[0;32m     10\u001b[0m \u001b[1;32mfor\u001b[0m \u001b[0mi\u001b[0m \u001b[1;32min\u001b[0m \u001b[0megdb_return\u001b[0m\u001b[1;33m:\u001b[0m\u001b[1;33m\u001b[0m\u001b[1;33m\u001b[0m\u001b[0m\n\u001b[0;32m     11\u001b[0m     \u001b[0mprint\u001b[0m\u001b[1;33m(\u001b[0m\u001b[1;34m'{}: {}'\u001b[0m\u001b[1;33m.\u001b[0m\u001b[0mformat\u001b[0m\u001b[1;33m(\u001b[0m\u001b[1;33m*\u001b[0m\u001b[0mi\u001b[0m\u001b[1;33m)\u001b[0m\u001b[1;33m)\u001b[0m\u001b[1;33m\u001b[0m\u001b[1;33m\u001b[0m\u001b[0m\n",
      "\u001b[1;32mC:\\Program Files\\ArcGIS\\Pro\\Resources\\ArcPy\\arcpy\\arcobjects\\arcobjects.py\u001b[0m in \u001b[0;36mexecute\u001b[1;34m(self, *args)\u001b[0m\n\u001b[0;32m     42\u001b[0m            an appropriate type (string, float, float).\"\"\"\n\u001b[0;32m     43\u001b[0m         \u001b[1;32mfrom\u001b[0m \u001b[0marcpy\u001b[0m\u001b[1;33m.\u001b[0m\u001b[0mgeoprocessing\u001b[0m\u001b[1;33m.\u001b[0m\u001b[0m_base\u001b[0m \u001b[1;32mimport\u001b[0m \u001b[0mgp_fixargs\u001b[0m\u001b[1;33m\u001b[0m\u001b[1;33m\u001b[0m\u001b[0m\n\u001b[1;32m---> 44\u001b[1;33m         \u001b[1;32mreturn\u001b[0m \u001b[0mconvertArcObjectToPythonObject\u001b[0m\u001b[1;33m(\u001b[0m\u001b[0mself\u001b[0m\u001b[1;33m.\u001b[0m\u001b[0m_arc_object\u001b[0m\u001b[1;33m.\u001b[0m\u001b[0mExecute\u001b[0m\u001b[1;33m(\u001b[0m\u001b[1;33m*\u001b[0m\u001b[0mgp_fixargs\u001b[0m\u001b[1;33m(\u001b[0m\u001b[0margs\u001b[0m\u001b[1;33m)\u001b[0m\u001b[1;33m)\u001b[0m\u001b[1;33m)\u001b[0m\u001b[1;33m\u001b[0m\u001b[1;33m\u001b[0m\u001b[0m\n\u001b[0m\u001b[0;32m     45\u001b[0m \u001b[1;33m\u001b[0m\u001b[0m\n\u001b[0;32m     46\u001b[0m     \u001b[1;32mdef\u001b[0m \u001b[0mstartTransaction\u001b[0m\u001b[1;33m(\u001b[0m\u001b[0mself\u001b[0m\u001b[1;33m,\u001b[0m \u001b[1;33m*\u001b[0m\u001b[0margs\u001b[0m\u001b[1;33m)\u001b[0m\u001b[1;33m:\u001b[0m\u001b[1;33m\u001b[0m\u001b[1;33m\u001b[0m\u001b[0m\n",
      "\u001b[1;31mAttributeError\u001b[0m: ArcSDESQLExecute: StreamPrepareSQL ArcSDE Error -37 DBMS table not found"
     ]
    }
   ],
   "source": [
    "egdb_conn = arcpy.ArcSDESQLExecute(sde)\n",
    "table = featureClasses[4]\n",
    "owner = \"LRS\"\n",
    "command = \"\"\"\n",
    "    select PRIVILEGE, GRANTEE\n",
    "    from ALL_TAB_PRIVS \n",
    "    where TABLE_NAME = '{0}'\n",
    "    and TABLE_SCHEMA = '{1}'\"\"\".format(table, owner)\n",
    "egdb_return = egdb_conn.execute(command)\n",
    "for i in egdb_return:\n",
    "    print('{}: {}'.format(*i))"
   ]
  },
  {
   "cell_type": "code",
   "execution_count": 13,
   "metadata": {},
   "outputs": [
    {
     "data": {
      "text/plain": [
       "'EGISDB.LRS.LRSE_Toll'"
      ]
     },
     "execution_count": 13,
     "metadata": {},
     "output_type": "execute_result"
    }
   ],
   "source": [
    "table"
   ]
  },
  {
   "cell_type": "code",
   "execution_count": 10,
   "metadata": {},
   "outputs": [],
   "source": [
    "egdb_conn = arcpy.ArcSDESQLExecute(sde)\n",
    "import arcpy,sys try:     arcpy.env.workspace = r'C:\\staging\\database connections\\dev'     sdes = arcpy.ListWorkspaces()     for sde in sdes:         arcpy.env.workspace = sde         first = raw_input(\"Do you want to update aliases in \"+str(sde)+\"...\\n(Yes/No)\\n\")         if first.upper() == 'YES':             fcs = arcpy.ListFeatureClasses()             for fc in fcs:                 sde_conn = arcpy.ArcSDESQLExecute(sde)                 sql_stmt = \"select Definition.value('(/DEFeatureClassInfo/Name/node())[1]', 'nvarchar(max)') AS Name, Definition.value('(/DEFeatureClassInfo/AliasName/node())[1]', 'nvarchar(max)') AS Alias from agdc_sde.sde.gdb_items where Name = '\"+str(fc)+\"'\"                 sde_return = sde_conn.execute(sql_stmt)                 if sde_return == True:                     print \"SQL statement: {0} ran successfully.\".format(sql)                 else:                     print \"SQL statement: {0} FAILED.\".format(sql)                 print \"+++++++++++++++++++++++++++++++++++++++++++++\\n\" except Exception as err:     print unicode(err)     sde_return = False"
   ]
  },
  {
   "cell_type": "code",
   "execution_count": 22,
   "metadata": {},
   "outputs": [],
   "source": [
    "import pandas as pd"
   ]
  },
  {
   "cell_type": "code",
   "execution_count": 26,
   "metadata": {},
   "outputs": [],
   "source": [
    "data = {}\n",
    "df = pd.DataFrame(data, columns=['Feature Dataset Name', 'Feature Class Name'])\n",
    "arcpy.env.workspace = str(db_path)"
   ]
  },
  {
   "cell_type": "code",
   "execution_count": 27,
   "metadata": {},
   "outputs": [],
   "source": [
    "counter = 0"
   ]
  },
  {
   "cell_type": "code",
   "execution_count": 28,
   "metadata": {},
   "outputs": [],
   "source": [
    "featureDatasets = arcpy.ListDatasets()\n",
    "for dataset in featureDatasets:\n",
    "    featureClasses = arcpy.ListFeatureClasses(feature_dataset=dataset)\n",
    "    for j in range(len(featureClasses)):\n",
    "        if j == 0:\n",
    "            df.loc[counter+j] = dataset, featureClasses[j]\n",
    "        else:\n",
    "            df.loc[counter+j] = \"\", featureClasses[j]\n",
    "    counter = counter + len(featureClasses)\n",
    "    # add the space at the end of each dataset\n",
    "    df.loc[counter] = \"\", \"\"\n",
    "    counter += 1"
   ]
  },
  {
   "cell_type": "code",
   "execution_count": 29,
   "metadata": {},
   "outputs": [
    {
     "data": {
      "text/html": [
       "<div>\n",
       "<style scoped>\n",
       "    .dataframe tbody tr th:only-of-type {\n",
       "        vertical-align: middle;\n",
       "    }\n",
       "\n",
       "    .dataframe tbody tr th {\n",
       "        vertical-align: top;\n",
       "    }\n",
       "\n",
       "    .dataframe thead th {\n",
       "        text-align: right;\n",
       "    }\n",
       "</style>\n",
       "<table border=\"1\" class=\"dataframe\">\n",
       "  <thead>\n",
       "    <tr style=\"text-align: right;\">\n",
       "      <th></th>\n",
       "      <th>Feature Dataset Name</th>\n",
       "      <th>Feature Class Name</th>\n",
       "    </tr>\n",
       "  </thead>\n",
       "  <tbody>\n",
       "    <tr>\n",
       "      <th>0</th>\n",
       "      <td>GISDB.GIS.Administrative</td>\n",
       "      <td>GISDB.GIS.Urban_Areas_NationalAtlas</td>\n",
       "    </tr>\n",
       "    <tr>\n",
       "      <th>1</th>\n",
       "      <td></td>\n",
       "      <td>GISDB.GIS.Block_Groups_Census2K</td>\n",
       "    </tr>\n",
       "    <tr>\n",
       "      <th>2</th>\n",
       "      <td></td>\n",
       "      <td>gisdb.GIS.ALDOT_Divisions_2011</td>\n",
       "    </tr>\n",
       "    <tr>\n",
       "      <th>3</th>\n",
       "      <td></td>\n",
       "      <td>GISDB.GIS.Cities_Census2K_UTM84</td>\n",
       "    </tr>\n",
       "    <tr>\n",
       "      <th>4</th>\n",
       "      <td></td>\n",
       "      <td>GISDB.GIS.ALSenate03</td>\n",
       "    </tr>\n",
       "    <tr>\n",
       "      <th>...</th>\n",
       "      <td>...</td>\n",
       "      <td>...</td>\n",
       "    </tr>\n",
       "    <tr>\n",
       "      <th>201</th>\n",
       "      <td>GISDB.ENVIRO.TestData</td>\n",
       "      <td>GISDB.ENVIRO.TestData</td>\n",
       "    </tr>\n",
       "    <tr>\n",
       "      <th>202</th>\n",
       "      <td></td>\n",
       "      <td></td>\n",
       "    </tr>\n",
       "    <tr>\n",
       "      <th>203</th>\n",
       "      <td>GISDB.SEREGION.InvasiveSpecies</td>\n",
       "      <td>GISDB.SEREGION.Trees</td>\n",
       "    </tr>\n",
       "    <tr>\n",
       "      <th>204</th>\n",
       "      <td></td>\n",
       "      <td>GISDB.SEREGION.GRASSES</td>\n",
       "    </tr>\n",
       "    <tr>\n",
       "      <th>205</th>\n",
       "      <td></td>\n",
       "      <td></td>\n",
       "    </tr>\n",
       "  </tbody>\n",
       "</table>\n",
       "<p>206 rows × 2 columns</p>\n",
       "</div>"
      ],
      "text/plain": [
       "               Feature Dataset Name                   Feature Class Name\n",
       "0          GISDB.GIS.Administrative  GISDB.GIS.Urban_Areas_NationalAtlas\n",
       "1                                        GISDB.GIS.Block_Groups_Census2K\n",
       "2                                         gisdb.GIS.ALDOT_Divisions_2011\n",
       "3                                        GISDB.GIS.Cities_Census2K_UTM84\n",
       "4                                                   GISDB.GIS.ALSenate03\n",
       "..                              ...                                  ...\n",
       "201           GISDB.ENVIRO.TestData                GISDB.ENVIRO.TestData\n",
       "202                                                                     \n",
       "203  GISDB.SEREGION.InvasiveSpecies                 GISDB.SEREGION.Trees\n",
       "204                                               GISDB.SEREGION.GRASSES\n",
       "205                                                                     \n",
       "\n",
       "[206 rows x 2 columns]"
      ]
     },
     "execution_count": 29,
     "metadata": {},
     "output_type": "execute_result"
    }
   ],
   "source": [
    "df"
   ]
  },
  {
   "cell_type": "code",
   "execution_count": 30,
   "metadata": {},
   "outputs": [],
   "source": [
    "arcpy.env.workspace = str(db_path)"
   ]
  },
  {
   "cell_type": "code",
   "execution_count": 31,
   "metadata": {},
   "outputs": [],
   "source": [
    "featureClasses = arcpy.ListFeatureClasses()\n",
    "for i in range(len(featureClasses)):\n",
    "    if i == 0:\n",
    "        df.loc[counter+i] = \"Root\", featureClasses[i]\n",
    "    else:\n",
    "        df.loc[counter+i] = \"\", featureClasses[i]\n",
    "counter = counter + len(featureClasses)"
   ]
  },
  {
   "cell_type": "code",
   "execution_count": 32,
   "metadata": {},
   "outputs": [
    {
     "data": {
      "text/html": [
       "<div>\n",
       "<style scoped>\n",
       "    .dataframe tbody tr th:only-of-type {\n",
       "        vertical-align: middle;\n",
       "    }\n",
       "\n",
       "    .dataframe tbody tr th {\n",
       "        vertical-align: top;\n",
       "    }\n",
       "\n",
       "    .dataframe thead th {\n",
       "        text-align: right;\n",
       "    }\n",
       "</style>\n",
       "<table border=\"1\" class=\"dataframe\">\n",
       "  <thead>\n",
       "    <tr style=\"text-align: right;\">\n",
       "      <th></th>\n",
       "      <th>Feature Dataset Name</th>\n",
       "      <th>Feature Class Name</th>\n",
       "    </tr>\n",
       "  </thead>\n",
       "  <tbody>\n",
       "    <tr>\n",
       "      <th>0</th>\n",
       "      <td>GISDB.GIS.Administrative</td>\n",
       "      <td>GISDB.GIS.Urban_Areas_NationalAtlas</td>\n",
       "    </tr>\n",
       "    <tr>\n",
       "      <th>1</th>\n",
       "      <td></td>\n",
       "      <td>GISDB.GIS.Block_Groups_Census2K</td>\n",
       "    </tr>\n",
       "    <tr>\n",
       "      <th>2</th>\n",
       "      <td></td>\n",
       "      <td>gisdb.GIS.ALDOT_Divisions_2011</td>\n",
       "    </tr>\n",
       "    <tr>\n",
       "      <th>3</th>\n",
       "      <td></td>\n",
       "      <td>GISDB.GIS.Cities_Census2K_UTM84</td>\n",
       "    </tr>\n",
       "    <tr>\n",
       "      <th>4</th>\n",
       "      <td></td>\n",
       "      <td>GISDB.GIS.ALSenate03</td>\n",
       "    </tr>\n",
       "    <tr>\n",
       "      <th>...</th>\n",
       "      <td>...</td>\n",
       "      <td>...</td>\n",
       "    </tr>\n",
       "    <tr>\n",
       "      <th>503</th>\n",
       "      <td></td>\n",
       "      <td>GISDB.CPMS.GeoGISProjectsPointView</td>\n",
       "    </tr>\n",
       "    <tr>\n",
       "      <th>504</th>\n",
       "      <td></td>\n",
       "      <td>GISDB.CPMS.STORM_WATER_PROJECTS_LINE_VIEW</td>\n",
       "    </tr>\n",
       "    <tr>\n",
       "      <th>505</th>\n",
       "      <td></td>\n",
       "      <td>GISDB.CPMS.VW_ATRIP_PROJ_LINE</td>\n",
       "    </tr>\n",
       "    <tr>\n",
       "      <th>506</th>\n",
       "      <td></td>\n",
       "      <td>GISDB.CPMS.VW_ATRIP_PROJ_POINT</td>\n",
       "    </tr>\n",
       "    <tr>\n",
       "      <th>507</th>\n",
       "      <td></td>\n",
       "      <td>GISDB.EGIS.vwUSRoute</td>\n",
       "    </tr>\n",
       "  </tbody>\n",
       "</table>\n",
       "<p>508 rows × 2 columns</p>\n",
       "</div>"
      ],
      "text/plain": [
       "         Feature Dataset Name                         Feature Class Name\n",
       "0    GISDB.GIS.Administrative        GISDB.GIS.Urban_Areas_NationalAtlas\n",
       "1                                        GISDB.GIS.Block_Groups_Census2K\n",
       "2                                         gisdb.GIS.ALDOT_Divisions_2011\n",
       "3                                        GISDB.GIS.Cities_Census2K_UTM84\n",
       "4                                                   GISDB.GIS.ALSenate03\n",
       "..                        ...                                        ...\n",
       "503                                   GISDB.CPMS.GeoGISProjectsPointView\n",
       "504                            GISDB.CPMS.STORM_WATER_PROJECTS_LINE_VIEW\n",
       "505                                        GISDB.CPMS.VW_ATRIP_PROJ_LINE\n",
       "506                                       GISDB.CPMS.VW_ATRIP_PROJ_POINT\n",
       "507                                                 GISDB.EGIS.vwUSRoute\n",
       "\n",
       "[508 rows x 2 columns]"
      ]
     },
     "execution_count": 32,
     "metadata": {},
     "output_type": "execute_result"
    }
   ],
   "source": [
    "df"
   ]
  },
  {
   "cell_type": "code",
   "execution_count": 33,
   "metadata": {},
   "outputs": [],
   "source": [
    "outfile = path.join(filePath, \"/database2.csv\")\n",
    "df.to_csv(outfile)"
   ]
  },
  {
   "cell_type": "code",
   "execution_count": 15,
   "metadata": {},
   "outputs": [],
   "source": [
    "os.remove(str(db_path))"
   ]
  }
 ],
 "metadata": {
  "kernelspec": {
   "display_name": "Python 3",
   "language": "python",
   "name": "python3"
  },
  "language_info": {
   "codemirror_mode": {
    "name": "ipython",
    "version": 3
   },
   "file_extension": ".py",
   "mimetype": "text/x-python",
   "name": "python",
   "nbconvert_exporter": "python",
   "pygments_lexer": "ipython3",
   "version": "3.7.10"
  }
 },
 "nbformat": 4,
 "nbformat_minor": 4
}
